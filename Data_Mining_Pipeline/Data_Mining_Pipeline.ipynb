{
  "nbformat": 4,
  "nbformat_minor": 0,
  "metadata": {
    "colab": {
      "provenance": [],
      "authorship_tag": "ABX9TyMuDIAh9zdTEZKhAP2TjIMf",
      "include_colab_link": true
    },
    "kernelspec": {
      "name": "python3",
      "display_name": "Python 3"
    },
    "language_info": {
      "name": "python"
    }
  },
  "cells": [
    {
      "cell_type": "markdown",
      "metadata": {
        "id": "view-in-github",
        "colab_type": "text"
      },
      "source": [
        "<a href=\"https://colab.research.google.com/github/rahulchandra-cu/datamining/blob/main/Data_Mining_Pipeline/Data_Mining_Pipeline.ipynb\" target=\"_parent\"><img src=\"https://colab.research.google.com/assets/colab-badge.svg\" alt=\"Open In Colab\"/></a>"
      ]
    },
    {
      "cell_type": "markdown",
      "source": [
        "# Data Mining Pipeline\n",
        "\n",
        "\n",
        "\n",
        "*   4 billion internet user\n",
        "*   Rubin Observility : 20 TB/Night\n",
        "*   Explosive Data Growth : TB, PB, EB, ZB.\n",
        "*   Data creation, transmission, storage, sharing processing\n",
        "*   Drowing in data & starving for Knowledge.\n",
        "\n",
        "## What is Data Mining ?\n",
        "\n",
        "*   Knowledge discovery from data\n",
        "*   Extraction of interesting patterns or knowledge from huge ammount of data.\n",
        "*   **Interesting:** valid, previously unknown. potentially useful, ultimately understandable by human.\n",
        "*   Huge Amount of data : scalability, efficiency\n",
        "\n",
        "\n",
        "\n",
        "\n",
        "\n",
        "\n",
        "\n",
        "\n",
        "\n",
        "\n",
        "\n",
        "\n",
        "\n",
        "\n",
        "\n",
        "\n",
        "\n",
        "\n",
        "\n"
      ],
      "metadata": {
        "id": "sJBWjCVW-yZS"
      }
    },
    {
      "cell_type": "markdown",
      "source": [
        "## Data mining: Four Views\n",
        "\n",
        "\n",
        "\n",
        "*   Application\n",
        "*   Knowledge\n",
        "*   Technnique\n",
        "*   Data\n",
        "\n",
        "\n",
        "\n"
      ],
      "metadata": {
        "id": "TaKbOFPZDL1u"
      }
    },
    {
      "cell_type": "markdown",
      "source": [
        "### Data View\n",
        "\n",
        "\n",
        "\n",
        "*   The 3V, 4V, 5V\n",
        "\n",
        "  *   Volume\n",
        "  *   Variety\n",
        "  *   Velocity\n",
        "  *   Veracity - Quality of data\n",
        "  *   Value\n",
        "*   Relational, transacational data\n",
        "*   Sequential, temporal, streaming data\n",
        "*   Spatial, spatial-temporal data\n",
        "* Text, multimedia, Web data, hypertext\n",
        "* Graph, network data\n",
        "* Single or mixture of multiple data type\n",
        "\n",
        "\n",
        "\n",
        "\n",
        "\n"
      ],
      "metadata": {
        "id": "MIxgI0F3EFc6"
      }
    },
    {
      "cell_type": "markdown",
      "source": [
        "### Application View\n",
        "\n",
        "\n",
        "\n",
        "*   Market analysis, target advertisement - Business Intelligence.\n",
        "*   Healthcare, medical research.\n",
        "*   Science and Engineering - air polution\n",
        "*   Security\n",
        "*   Government, nonprofit   \n",
        "\n"
      ],
      "metadata": {
        "id": "gnfUWeWvGn4p"
      }
    },
    {
      "cell_type": "markdown",
      "source": [
        "### Knowledge View\n",
        "\n",
        "\n",
        "*   Frequent pattern, association, correlation.\n",
        "*   **Categorization** - similarity, differences between two groups.\n",
        "*   Anomaly, outliers\n",
        "*   Change over time\n",
        "*   Descriptive, Predictive, Prescriptive.\n",
        "\n",
        "\n",
        "\n",
        "\n",
        "\n",
        "\n"
      ],
      "metadata": {
        "id": "MgS2l8wjICs9"
      }
    },
    {
      "cell_type": "markdown",
      "source": [
        "### Techinque View\n",
        "\n",
        "\n",
        "*   Frequent pattern analysis\n",
        "    * Freqent itemset\n",
        "    * Frequent sequence\n",
        "    * Frequent structure\n",
        "    * Association rules\n",
        "    * Correlaton analysis\n",
        "*   Classifiation, prediction\n",
        "    *   Pre-defined classes\n",
        "    *   Need training data to build classfication\n",
        "    * Numerical Prediction. Ex weather, stock, traffic.\n",
        "*   Clustering  (No predefiend class)\n",
        "    * No predefined classes - if uniform distributed.\n",
        "    * Intra-cluster similarity\n",
        "    * Inter-cluster dissimilarity\n",
        "*   Anomaly detection\n",
        "    * Differ from the norm - Level Shifting, Unsual Time Series\n",
        "*   Trend and evolution analysis\n",
        "    * Change over time.\n",
        "        * Overall trend\n",
        "        * Periodical Pattern\n",
        "        * Anomalies\n",
        "    * Upward, Downward or Seasonal trends\n",
        "\n",
        "    \n",
        "\n",
        "      \n",
        "\n",
        "\n",
        "\n"
      ],
      "metadata": {
        "id": "NF_o2hKkJ45c"
      }
    }
  ]
}